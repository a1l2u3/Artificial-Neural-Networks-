{
  "nbformat": 4,
  "nbformat_minor": 0,
  "metadata": {
    "colab": {
      "provenance": [],
      "authorship_tag": "ABX9TyMrJ5p2hzJId0T4uERYsAO5",
      "include_colab_link": true
    },
    "kernelspec": {
      "name": "python3",
      "display_name": "Python 3"
    },
    "language_info": {
      "name": "python"
    }
  },
  "cells": [
    {
      "cell_type": "markdown",
      "metadata": {
        "id": "view-in-github",
        "colab_type": "text"
      },
      "source": [
        "<a href=\"https://colab.research.google.com/github/a1l2u3/Artificial-Neural-Networks-/blob/ANN/ANN_Practical_3.ipynb\" target=\"_parent\"><img src=\"https://colab.research.google.com/assets/colab-badge.svg\" alt=\"Open In Colab\"/></a>"
      ]
    },
    {
      "cell_type": "markdown",
      "source": [
        "3. Write a Python Program using Perceptron Neural Network to recognise even and odd numbers.\n",
        "Given numbers are in ASCII form 0 to 9"
      ],
      "metadata": {
        "id": "EJLUjWjx5llV"
      }
    },
    {
      "cell_type": "markdown",
      "source": [
        "1. Define Perceptron class:\n",
        "    a. Initialize weights with zeros.\n",
        "    b. Define the activation function (step function).\n",
        "    c. Define predict function to make predictions.\n",
        "    d. Define train function to train the perceptron using the perceptron learning algorithm.\n",
        "\n",
        "2. Define training data:\n",
        "    a. Convert ASCII representations of numbers 0 to 9 into binary arrays.\n",
        "    b. Define target outputs: 1 for even numbers, 0 for odd numbers.\n",
        "\n",
        "3. Create a perceptron with input size equal to the length of input data.\n",
        "\n",
        "4. Train the perceptron using the training data.\n",
        "\n",
        "5. Define test data:\n",
        "    a. Define ASCII representations of numbers to be tested.\n",
        "\n",
        "6. Iterate through each test data:\n",
        "    a. Make predictions using the trained perceptron.\n",
        "    b. Print whether the number is even or odd based on the prediction.\n"
      ],
      "metadata": {
        "id": "_7fPkQEN5oML"
      }
    },
    {
      "cell_type": "code",
      "source": [
        "import numpy as np\n",
        "\n",
        "# Perceptron class\n",
        "class Perceptron:\n",
        "    def __init__(self, input_size, lr=0.01, epochs=100):\n",
        "        self.W = np.zeros(input_size+1)\n",
        "        self.epochs = epochs\n",
        "        self.lr = lr\n",
        "\n",
        "    # Activation function (step function)\n",
        "    def activation_fn(self, x):\n",
        "        return 1 if x >= 0 else 0\n",
        "\n",
        "    # Predict function\n",
        "    def predict(self, x):\n",
        "        x = np.insert(x, 0, 1)  # Inserting bias\n",
        "        z = self.W.T.dot(x)\n",
        "        a = self.activation_fn(z)\n",
        "        return a\n",
        "\n",
        "    # Train function\n",
        "    def train(self, X, d):\n",
        "        for _ in range(self.epochs):\n",
        "            for i in range(d.shape[0]):\n",
        "                x = np.insert(X[i], 0, 1)  # Inserting bias\n",
        "                y = self.predict(X[i])\n",
        "                e = d[i] - y\n",
        "                self.W = self.W + self.lr * e * x\n",
        "\n",
        "# Training data\n",
        "X = np.array([\n",
        "    [0, 0, 1, 0, 0, 1, 0, 1, 0, 1],  # ASCII representation of 0\n",
        "    [0, 0, 0, 0, 1, 1, 0, 0, 1, 1],  # ASCII representation of 1\n",
        "    [0, 0, 1, 0, 1, 0, 0, 1, 0, 1],  # ASCII representation of 2\n",
        "    [0, 0, 1, 0, 1, 0, 0, 1, 1, 1],  # ASCII representation of 3\n",
        "    [0, 0, 1, 0, 1, 1, 0, 0, 1, 1],  # ASCII representation of 4\n",
        "    [0, 0, 1, 0, 1, 1, 0, 1, 0, 1],  # ASCII representation of 5\n",
        "    [0, 0, 1, 0, 0, 1, 0, 0, 1, 1],  # ASCII representation of 6\n",
        "    [0, 0, 1, 0, 0, 1, 0, 1, 0, 1],  # ASCII representation of 7\n",
        "    [0, 0, 1, 0, 0, 1, 0, 1, 1, 1],  # ASCII representation of 8\n",
        "    [0, 0, 1, 0, 1, 0, 0, 0, 1, 1]   # ASCII representation of 9\n",
        "])\n",
        "d = np.array([1, 0, 1, 0, 1, 0, 1, 0, 1, 0])  # 1 for even, 0 for odd\n",
        "\n",
        "# Create a perceptron with input size equal to the length of input data\n",
        "input_size = X.shape[1]\n",
        "perceptron = Perceptron(input_size=input_size)\n",
        "\n",
        "# Train the perceptron\n",
        "perceptron.train(X, d)\n",
        "\n",
        "# Take user input\n",
        "user_input = input(\"Enter a number (0-9) in ASCII form (10 bits, 0s and 1s): \")\n",
        "try:\n",
        "    user_input = [int(bit) for bit in user_input]\n",
        "    if len(user_input) != 10:\n",
        "        raise ValueError(\"Input should be a 10-bit binary number.\")\n",
        "except ValueError as e:\n",
        "    print(\"Error:\", e)\n",
        "    exit()\n",
        "\n",
        "# Test the perceptron with user input\n",
        "prediction = perceptron.predict(user_input)\n",
        "if prediction == 1:\n",
        "    print(\"Even\")\n",
        "else:\n",
        "    print(\"Odd\")\n"
      ],
      "metadata": {
        "colab": {
          "base_uri": "https://localhost:8080/"
        },
        "id": "J_ZYLdeX7ytD",
        "outputId": "03214bf1-f0d4-4900-93b7-b12ee18aa212"
      },
      "execution_count": null,
      "outputs": [
        {
          "output_type": "stream",
          "name": "stdout",
          "text": [
            "Enter a number (0-9) in ASCII form (10 bits, 0s and 1s): 0000110010\n",
            "Odd\n"
          ]
        }
      ]
    }
  ]
}