{
  "nbformat": 4,
  "nbformat_minor": 0,
  "metadata": {
    "colab": {
      "provenance": [],
      "authorship_tag": "ABX9TyMp/I/9WlHeE8idDOdBaKoZ",
      "include_colab_link": true
    },
    "kernelspec": {
      "name": "python3",
      "display_name": "Python 3"
    },
    "language_info": {
      "name": "python"
    }
  },
  "cells": [
    {
      "cell_type": "markdown",
      "metadata": {
        "id": "view-in-github",
        "colab_type": "text"
      },
      "source": [
        "<a href=\"https://colab.research.google.com/github/a1l2u3/Artificial-Neural-Networks-/blob/ANN/ANN_practical_2.ipynb\" target=\"_parent\"><img src=\"https://colab.research.google.com/assets/colab-badge.svg\" alt=\"Open In Colab\"/></a>"
      ]
    },
    {
      "cell_type": "markdown",
      "source": [
        "2. Generate ANDNOT function using McCulloch-Pitts neural net by a python program."
      ],
      "metadata": {
        "id": "ODP8NLEs4HGG"
      }
    },
    {
      "cell_type": "markdown",
      "source": [
        "1. Define mcculloch_pitts_neuron(inputs, weights, threshold):\n",
        "     a. Compute the weighted sum of inputs by multiplying each input with its corresponding weight and summing the results.\n",
        "     b. Apply the threshold function: if the weighted sum is greater than or equal to the threshold, return 1; otherwise, return 0.\n",
        "\n",
        "2. Define ANDNOT(x1, x2):\n",
        "     a. Define inputs as [x1, x2].\n",
        "     b. Define weights as [1, -1] (positive weight for the first input and negative weight for the second input).\n",
        "     c. Define threshold as 0.\n",
        "     d. Return the result of the mcculloch_pitts_neuron function with inputs, weights, and threshold.\n",
        "\n",
        "3. Test the ANDNOT function:\n",
        "     a. Call the ANDNOT function with different input combinations: (0, 0), (0, 1), (1, 0), (1, 1).\n",
        "     b. Print the results.\n"
      ],
      "metadata": {
        "id": "LO5odi0C4NTz"
      }
    },
    {
      "cell_type": "code",
      "execution_count": 3,
      "metadata": {
        "id": "kTQeexOZ3-FF"
      },
      "outputs": [],
      "source": [
        "# Define McCulloch-Pitts neuron function\n",
        "def mcculloch_pitts_neuron(inputs, weights, threshold):\n",
        "    # Compute the weighted sum of inputs\n",
        "    weighted_sum = sum([x * w for x, w in zip(inputs, weights)])\n",
        "\n",
        "    # Apply threshold function\n",
        "    output = 1 if weighted_sum >= threshold else 0\n",
        "\n",
        "    return output"
      ]
    },
    {
      "cell_type": "code",
      "source": [
        "# Define the ANDNOT function\n",
        "def ANDNOT(x1, x2):\n",
        "    inputs = [x1, x2]\n",
        "    weights = [1, -1]  # weights for the inputs\n",
        "    threshold = 0      # threshold for activation\n",
        "\n",
        "    return mcculloch_pitts_neuron(inputs, weights, threshold)"
      ],
      "metadata": {
        "id": "8LgN22TC4kIH"
      },
      "execution_count": 5,
      "outputs": []
    },
    {
      "cell_type": "code",
      "source": [
        "# Test the ANDNOT function\n",
        "print(\"ANDNOT(0, 0) =\", ANDNOT(0, 0))\n",
        "print(\"ANDNOT(0, 1) =\", ANDNOT(0, 1))\n",
        "print(\"ANDNOT(1, 0) =\", ANDNOT(1, 0))\n",
        "print(\"ANDNOT(1, 1) =\", ANDNOT(1, 1))"
      ],
      "metadata": {
        "colab": {
          "base_uri": "https://localhost:8080/",
          "height": 0
        },
        "id": "TBPSvwKl41ux",
        "outputId": "fc53c0d9-c77d-401e-8dfd-47a7607f7948"
      },
      "execution_count": 6,
      "outputs": [
        {
          "output_type": "stream",
          "name": "stdout",
          "text": [
            "ANDNOT(0, 0) = 1\n",
            "ANDNOT(0, 1) = 0\n",
            "ANDNOT(1, 0) = 1\n",
            "ANDNOT(1, 1) = 1\n"
          ]
        }
      ]
    },
    {
      "cell_type": "code",
      "source": [],
      "metadata": {
        "id": "n3zy-PEx48i4"
      },
      "execution_count": null,
      "outputs": []
    }
  ]
}